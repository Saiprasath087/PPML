{
 "cells": [
  {
   "cell_type": "code",
   "execution_count": 1,
   "id": "79b94207",
   "metadata": {},
   "outputs": [
    {
     "name": "stdout",
     "output_type": "stream",
     "text": [
      "Array created using passed list:\n",
      " [[1 2 4]\n",
      " [5 8 7]]\n"
     ]
    }
   ],
   "source": [
    "import numpy as np\n",
    "a=np.array([[1,2,4],[5,8,7]])\n",
    "print(\"Array created using passed list:\\n\",a)"
   ]
  },
  {
   "cell_type": "code",
   "execution_count": 2,
   "id": "c97b264a",
   "metadata": {},
   "outputs": [
    {
     "name": "stdout",
     "output_type": "stream",
     "text": [
      "\n",
      "An array initialized with all zeros:\n",
      " [[0. 0. 0. 0.]\n",
      " [0. 0. 0. 0.]\n",
      " [0. 0. 0. 0.]]\n"
     ]
    }
   ],
   "source": [
    "b=np.zeros((3,4))\n",
    "print(\"\\nAn array initialized with all zeros:\\n\",b)"
   ]
  },
  {
   "cell_type": "code",
   "execution_count": 3,
   "id": "8c6fb675",
   "metadata": {},
   "outputs": [
    {
     "name": "stdout",
     "output_type": "stream",
     "text": [
      "\n",
      "An array initialized with all 6s.\n",
      " [[6 6 6]\n",
      " [6 6 6]\n",
      " [6 6 6]]\n"
     ]
    }
   ],
   "source": [
    "c=np.full((3,3),6)\n",
    "print(\"\\nAn array initialized with all 6s.\\n\",c)"
   ]
  },
  {
   "cell_type": "code",
   "execution_count": 5,
   "id": "9c7bc48b",
   "metadata": {},
   "outputs": [
    {
     "name": "stdout",
     "output_type": "stream",
     "text": [
      "\n",
      "A random array:\n",
      " [[0.31749738 0.44694862 0.46531118]\n",
      " [0.69443504 0.46506633 0.39162341]]\n"
     ]
    }
   ],
   "source": [
    "d=np.random.random((2,3))\n",
    "print(\"\\nA random array:\\n\",d)"
   ]
  },
  {
   "cell_type": "code",
   "execution_count": 6,
   "id": "5fac4218",
   "metadata": {},
   "outputs": [
    {
     "name": "stdout",
     "output_type": "stream",
     "text": [
      "\n",
      "A sequential array with steps of 5:\n",
      " [  0  15  30  45  60  75  90 105 120]\n"
     ]
    }
   ],
   "source": [
    "e=np.arange(0,130,15)\n",
    "print(\"\\nA sequential array with steps of 5:\\n\",e)"
   ]
  },
  {
   "cell_type": "code",
   "execution_count": 7,
   "id": "bf1ca16c",
   "metadata": {},
   "outputs": [
    {
     "name": "stdout",
     "output_type": "stream",
     "text": [
      "\n",
      "Original array:\n",
      " [[1 2 3 4]\n",
      " [5 2 4 2]\n",
      " [1 2 0 1]]\n",
      "Reshaped array[4,3]:\n",
      " [[1 2 3]\n",
      " [4 5 2]\n",
      " [4 2 1]\n",
      " [2 0 1]]\n"
     ]
    }
   ],
   "source": [
    "arr=np.array([[1,2,3,4],\n",
    "             [5,2,4,2],\n",
    "             [1,2,0,1]])\n",
    "newarr=arr.reshape(4,3)\n",
    "print(\"\\nOriginal array:\\n\",arr)\n",
    "print(\"Reshaped array[4,3]:\\n\",newarr)"
   ]
  },
  {
   "cell_type": "code",
   "execution_count": 8,
   "id": "a38f9dba",
   "metadata": {},
   "outputs": [
    {
     "name": "stdout",
     "output_type": "stream",
     "text": [
      "\n",
      "Original array:\n",
      " [[1 2 3 4]\n",
      " [5 2 4 2]\n",
      " [1 2 0 1]]\n",
      "Flattened array:\n",
      " [1 2 3 4 5 2 4 2 1 2 0 1]\n"
     ]
    }
   ],
   "source": [
    "flarr=arr.flatten()\n",
    "print(\"\\nOriginal array:\\n\",arr)\n",
    "print(\"Flattened array:\\n\",flarr)"
   ]
  },
  {
   "cell_type": "code",
   "execution_count": 9,
   "id": "af1f3aba",
   "metadata": {},
   "outputs": [
    {
     "name": "stdout",
     "output_type": "stream",
     "text": [
      "\n",
      "No.of dimensions: 2\n"
     ]
    }
   ],
   "source": [
    "print(\"\\nNo.of dimensions:\",arr.ndim)"
   ]
  },
  {
   "cell_type": "code",
   "execution_count": 10,
   "id": "e0050317",
   "metadata": {},
   "outputs": [
    {
     "name": "stdout",
     "output_type": "stream",
     "text": [
      "\n",
      "Shape of array: (3, 4)\n"
     ]
    }
   ],
   "source": [
    "print(\"\\nShape of array:\",arr.shape)"
   ]
  },
  {
   "cell_type": "code",
   "execution_count": 11,
   "id": "add9ee9b",
   "metadata": {},
   "outputs": [
    {
     "name": "stdout",
     "output_type": "stream",
     "text": [
      "\n",
      "Size of array: 12\n"
     ]
    }
   ],
   "source": [
    "print(\"\\nSize of array:\",arr.size)"
   ]
  },
  {
   "cell_type": "code",
   "execution_count": 12,
   "id": "31ca6e72",
   "metadata": {},
   "outputs": [
    {
     "name": "stdout",
     "output_type": "stream",
     "text": [
      "\n",
      "Array stores elements of type: int32\n"
     ]
    }
   ],
   "source": [
    "print(\"\\nArray stores elements of type:\",arr.dtype)"
   ]
  },
  {
   "cell_type": "code",
   "execution_count": 14,
   "id": "50c5abbb",
   "metadata": {},
   "outputs": [
    {
     "name": "stdout",
     "output_type": "stream",
     "text": [
      "\n",
      "Converted array elements:\n",
      " [[1. 2. 3. 4.]\n",
      " [5. 2. 4. 2.]\n",
      " [1. 2. 0. 1.]]\n",
      "Converted array type: float32\n"
     ]
    }
   ],
   "source": [
    "newtype=arr.astype(\"f\")\n",
    "print(\"\\nConverted array elements:\\n\",newtype)\n",
    "print(\"Converted array type:\",newtype.dtype)"
   ]
  },
  {
   "cell_type": "code",
   "execution_count": null,
   "id": "2195a4dc",
   "metadata": {},
   "outputs": [],
   "source": [
    "\n",
    "\n",
    "\n",
    "\n",
    "\n",
    "\n",
    "\n",
    "\n",
    "\n",
    "\n",
    "\n",
    "\n",
    "\n",
    "\n",
    "\n",
    "\n",
    "\n",
    "\n",
    "\n",
    "\n",
    "\n",
    "\n",
    "\n",
    "\n",
    "\n",
    "\n",
    "\n",
    "\n",
    "\n",
    "\n",
    "\n"
   ]
  }
 ],
 "metadata": {
  "kernelspec": {
   "display_name": "Python 3 (ipykernel)",
   "language": "python",
   "name": "python3"
  },
  "language_info": {
   "codemirror_mode": {
    "name": "ipython",
    "version": 3
   },
   "file_extension": ".py",
   "mimetype": "text/x-python",
   "name": "python",
   "nbconvert_exporter": "python",
   "pygments_lexer": "ipython3",
   "version": "3.9.12"
  }
 },
 "nbformat": 4,
 "nbformat_minor": 5
}
