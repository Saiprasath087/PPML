{
 "cells": [
  {
   "cell_type": "code",
   "execution_count": 1,
   "id": "f6e90867",
   "metadata": {},
   "outputs": [
    {
     "name": "stdout",
     "output_type": "stream",
     "text": [
      "Original arrays\n",
      "[10 20 30 40 50]\n",
      "[ 2  4  5  8 10]\n"
     ]
    }
   ],
   "source": [
    "import numpy as np\n",
    "arr1=[10,20,30,40,50]\n",
    "arr2=[2,4,5,8,10]\n",
    "a=np.array(arr1)\n",
    "b=np.array(arr2)\n",
    "print(\"Original arrays\")\n",
    "print(a)\n",
    "print(b)"
   ]
  },
  {
   "cell_type": "code",
   "execution_count": 2,
   "id": "b32c7715",
   "metadata": {},
   "outputs": [
    {
     "name": "stdout",
     "output_type": "stream",
     "text": [
      "\n",
      "Vector addition\n",
      "[12 24 35 48 60]\n"
     ]
    }
   ],
   "source": [
    "print(\"\\nVector addition\")\n",
    "print(a+b)"
   ]
  },
  {
   "cell_type": "code",
   "execution_count": 3,
   "id": "52a3ac42",
   "metadata": {},
   "outputs": [
    {
     "name": "stdout",
     "output_type": "stream",
     "text": [
      "\n",
      "Vector subtraction\n",
      "[ 8 16 25 32 40]\n"
     ]
    }
   ],
   "source": [
    "print(\"\\nVector subtraction\")\n",
    "print(a-b)"
   ]
  },
  {
   "cell_type": "code",
   "execution_count": 4,
   "id": "08d39998",
   "metadata": {},
   "outputs": [
    {
     "name": "stdout",
     "output_type": "stream",
     "text": [
      "\n",
      "Vector multiplication\n",
      "[ 20  80 150 320 500]\n"
     ]
    }
   ],
   "source": [
    "print(\"\\nVector multiplication\")\n",
    "print(a*b)"
   ]
  },
  {
   "cell_type": "code",
   "execution_count": 5,
   "id": "26ae43fb",
   "metadata": {},
   "outputs": [
    {
     "name": "stdout",
     "output_type": "stream",
     "text": [
      "\n",
      "Vector division\n",
      "[5. 5. 6. 5. 5.]\n"
     ]
    }
   ],
   "source": [
    "print(\"\\nVector division\")\n",
    "print(a/b)"
   ]
  },
  {
   "cell_type": "code",
   "execution_count": 6,
   "id": "b48702b0",
   "metadata": {},
   "outputs": [
    {
     "name": "stdout",
     "output_type": "stream",
     "text": [
      "\n",
      "Vector Dot product\n",
      "1070\n"
     ]
    }
   ],
   "source": [
    "print(\"\\nVector Dot product\")\n",
    "print(a.dot(b))\n"
   ]
  },
  {
   "cell_type": "code",
   "execution_count": 7,
   "id": "3c51965f",
   "metadata": {},
   "outputs": [
    {
     "name": "stdout",
     "output_type": "stream",
     "text": [
      "\n",
      "scalar multiplication\n",
      "scalar value= 5\n",
      "array= [10 20 30 40 50]\n",
      "result= [ 50 100 150 200 250]\n"
     ]
    }
   ],
   "source": [
    "print(\"\\nscalar multiplication\")\n",
    "sclr=5\n",
    "print(\"scalar value=\",sclr)\n",
    "print(\"array=\",a)\n",
    "print(\"result=\",a*sclr)"
   ]
  },
  {
   "cell_type": "code",
   "execution_count": 8,
   "id": "a7702538",
   "metadata": {},
   "outputs": [
    {
     "name": "stdout",
     "output_type": "stream",
     "text": [
      "\n",
      "\n",
      "Numpy.Vectorize method\n",
      "(Return x-y if x>y,otherwise return x+y)\n",
      "array1: [10, 4, 20]\n",
      "array2: [2, 3, 30]\n",
      "result: [ 8  1 50]\n"
     ]
    }
   ],
   "source": [
    "def my_func(x,y):\n",
    "    if x>y:\n",
    "        return x-y\n",
    "    else:\n",
    "        return x+y\n",
    "print(\"\\n\\nNumpy.Vectorize method\")\n",
    "print(\"(Return x-y if x>y,otherwise return x+y)\")\n",
    "arr1=[10,4,20]\n",
    "arr2=[2,3,30]\n",
    "vec_func=np.vectorize(my_func)\n",
    "print(\"array1:\",arr1)\n",
    "print(\"array2:\",arr2)\n",
    "print(\"result:\",vec_func(arr1,arr2))"
   ]
  },
  {
   "cell_type": "code",
   "execution_count": null,
   "id": "f8af0da4",
   "metadata": {},
   "outputs": [],
   "source": []
  }
 ],
 "metadata": {
  "kernelspec": {
   "display_name": "Python 3 (ipykernel)",
   "language": "python",
   "name": "python3"
  },
  "language_info": {
   "codemirror_mode": {
    "name": "ipython",
    "version": 3
   },
   "file_extension": ".py",
   "mimetype": "text/x-python",
   "name": "python",
   "nbconvert_exporter": "python",
   "pygments_lexer": "ipython3",
   "version": "3.9.12"
  }
 },
 "nbformat": 4,
 "nbformat_minor": 5
}
